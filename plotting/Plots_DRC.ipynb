{
 "cells": [
  {
   "cell_type": "markdown",
   "metadata": {},
   "source": [
    "##Generate Plots for DRC Paper###"
   ]
  },
  {
   "cell_type": "code",
   "execution_count": 12,
   "metadata": {
    "collapsed": true
   },
   "outputs": [],
   "source": [
    "import numpy as np\n",
    "import pandas as pd\n",
    "import math\n",
    "import numpy.random as rand\n",
    "import scipy\n",
    "import matplotlib.pyplot as plt\n",
    "import corner\n",
    "from scipy.stats import norm\n",
    "from ipywidgets import FloatProgress\n",
    "from IPython.display import display\n",
    "import sys\n",
    "import pickle\n",
    "%matplotlib inline\n",
    "import seaborn\n",
    "seaborn.set_style('ticks')\n",
    "seaborn.set_color_codes()"
   ]
  },
  {
   "cell_type": "markdown",
   "metadata": {},
   "source": [
    "###Load in chain files###"
   ]
  },
  {
   "cell_type": "code",
   "execution_count": 18,
   "metadata": {
    "collapsed": false
   },
   "outputs": [
    {
     "name": "stdout",
     "output_type": "stream",
     "text": [
      "KINSHASA\n",
      "KATANGA\n"
     ]
    }
   ],
   "source": [
    "#loc_subset = ['KINSHASA','EQUATEUR','MANIEMA','ORIENTALE','BANDUNDU', 'BAS-CONGO', 'KASAI-OCCIDENTAL', 'KASAI-ORIENTAL',\n",
    "#           'KASAI-ORIENTAL', 'NORD-KIVU', 'SUD-KIVU' ] #Which locations?\n",
    "loc_subset = ['KINSHASA','KATANGA']\n",
    "\n",
    "alldata = []\n",
    "vaxcase = []\n",
    "vaxsero = []\n",
    "burnin = 4000 #Number of burnin samples\n",
    "nkeep = 500 #Number of samples to use for calculations\n",
    "\n",
    "#This is the file structure I've been using. Will need to be changed to reflect whatever the local machine uses.\n",
    "for loc in loc_subset:\n",
    "    i = 0\n",
    "    print loc\n",
    "    for line in open('chains/'+loc+'/alldata/chain_1.txt','r'):\n",
    "        sample = line.split()\n",
    "        if (i> burnin ) and i<(burnin+nkeep):\n",
    "            alldata.append(sample)\n",
    "        i += 1\n",
    "    i=0\n",
    "    for line in open('chains/'+loc+'/vaxcase/chain_1.txt','r'):\n",
    "        sample = line.split()\n",
    "        if (i> burnin) and (i<burnin+nkeep):\n",
    "            vaxcase.append(sample)\n",
    "        i += 1\n",
    "    i=0\n",
    "    for line in open('chains/'+loc+'/vaxsero/chain_1.txt','r'):\n",
    "        sample = line.split()\n",
    "        if (i> burnin) and (i<burnin+nkeep):\n",
    "            vaxsero.append(sample)\n",
    "        i += 1\n",
    "    "
   ]
  },
  {
   "cell_type": "markdown",
   "metadata": {},
   "source": [
    "###Turn everything into an array, get rid of ancillary data, reshape to nstate x nparam"
   ]
  },
  {
   "cell_type": "code",
   "execution_count": 19,
   "metadata": {
    "collapsed": false
   },
   "outputs": [
    {
     "name": "stdout",
     "output_type": "stream",
     "text": [
      "(998, 12)\n"
     ]
    }
   ],
   "source": [
    "nstate = len(loc_subset)\n",
    "nparam = 7\n",
    "\n",
    "alldata = np.array(alldata)  #Using all three data sets for analysis\n",
    "vaxcase = np.array(vaxcase)  #Using just vaccination and case data\n",
    "vaxsero = np.array(vaxsero)  #Using just vaccination at serology data\n",
    "\n",
    "print np.shape(alldata)"
   ]
  },
  {
   "cell_type": "code",
   "execution_count": 20,
   "metadata": {
    "collapsed": false
   },
   "outputs": [],
   "source": [
    "#Delete the extra columns.\n",
    "\n",
    "alldata = alldata.astype(float)\n",
    "alldata = np.delete(alldata,11,1)\n",
    "alldata = np.delete(alldata,10,1)\n",
    "alldata = np.delete(alldata,9,1)\n",
    "alldata = np.delete(alldata,8,1)\n",
    "alldata = np.delete(alldata,7,1)\n",
    "\n",
    "vaxcase = vaxcase.astype(float)\n",
    "vaxcase = np.delete(vaxcase,11,1)\n",
    "vaxcase = np.delete(vaxcase,10,1)\n",
    "vaxcase = np.delete(vaxcase,9,1)\n",
    "vaxcase = np.delete(vaxcase,8,1)\n",
    "vaxcase = np.delete(vaxcase,7,1)\n",
    "\n",
    "vaxsero = vaxsero.astype(float)\n",
    "vaxsero = np.delete(vaxsero,11,1)\n",
    "vaxsero = np.delete(vaxsero,10,1)\n",
    "vaxsero = np.delete(vaxsero,9,1)\n",
    "vaxsero = np.delete(vaxsero,8,1)\n",
    "vaxsero = np.delete(vaxsero,7,1)\n",
    "\n",
    "npoint = len(alldata)/len(loc_subset)"
   ]
  },
  {
   "cell_type": "code",
   "execution_count": 21,
   "metadata": {
    "collapsed": false
   },
   "outputs": [
    {
     "name": "stdout",
     "output_type": "stream",
     "text": [
      "(2, 499, 7)\n"
     ]
    }
   ],
   "source": [
    "#Reshape to useful array\n",
    "\n",
    "alldata = np.reshape(alldata,[nstate,npoint,nparam])\n",
    "vaxcase = np.reshape(vaxcase,[nstate,npoint,nparam])\n",
    "vaxsero = np.reshape(vaxsero,[nstate,npoint,nparam])\n",
    "print np.shape(alldata)"
   ]
  },
  {
   "cell_type": "markdown",
   "metadata": {},
   "source": [
    "###First plot shows the 'statistical significance' of the parameter estimates.###"
   ]
  },
  {
   "cell_type": "code",
   "execution_count": 22,
   "metadata": {
    "collapsed": false
   },
   "outputs": [],
   "source": [
    "adata_histvals = []\n",
    "vcase_histvals = []\n",
    "vsero_histvals = []\n",
    "\n",
    "for j in range(nstate):\n",
    "    for i in range(nparam):\n",
    "        adata_histvals.append([np.mean(alldata[j,:,i]),np.std(alldata[j,:,i])])\n",
    "        vcase_histvals.append([np.mean(vaxcase[j,:,i]),np.std(vaxcase[j,:,i])])\n",
    "        vsero_histvals.append([np.mean(vaxsero[j,:,i]),np.std(vaxsero[j,:,i])])"
   ]
  },
  {
   "cell_type": "code",
   "execution_count": 25,
   "metadata": {
    "collapsed": false
   },
   "outputs": [],
   "source": [
    "AD = np.array(adata_histvals)\n",
    "AD = np.reshape(AD,[nstate,nparam,2])\n",
    "\n",
    "VCD = np.array(vcase_histvals)\n",
    "VCD = np.reshape(VCD,[nstate,nparam,2])\n",
    "\n",
    "VSD = np.array(vsero_histvals)\n",
    "VSD = np.reshape(VSD,[nstate,nparam,2])"
   ]
  },
  {
   "cell_type": "code",
   "execution_count": 28,
   "metadata": {
    "collapsed": false
   },
   "outputs": [
    {
     "name": "stdout",
     "output_type": "stream",
     "text": [
      "[ 1.  2.  3.  4.  5.  6.  7.]\n"
     ]
    }
   ],
   "source": [
    "x = np.linspace(1,7,7)\n",
    "params = [r'$v_\\alpha$',r'$v_\\beta$',r'$v_h$',r'$f_\\alpha$',r'$f_\\beta$',r'$f_h$',r'$v_{\\rm{eff}}$'] \n",
    "y = [1.0, 2.0] #y values for the different states. Offset by 1.0 works well.\n",
    "states = ['KINSHASA', 'KATANGA']\n",
    "\n",
    "print x"
   ]
  },
  {
   "cell_type": "code",
   "execution_count": 29,
   "metadata": {
    "collapsed": false
   },
   "outputs": [
    {
     "data": {
      "text/plain": [
       "([<matplotlib.axis.YTick at 0x10f1df790>,\n",
       "  <matplotlib.axis.YTick at 0x10f1df250>],\n",
       " <a list of 2 Text yticklabel objects>)"
      ]
     },
     "execution_count": 29,
     "metadata": {},
     "output_type": "execute_result"
    },
    {
     "data": {
      "image/png": "[encoded data removed]",
      "text/plain": [
       "<matplotlib.figure.Figure at 0x1124c0450>"
      ]
     },
     "metadata": {},
     "output_type": "display_data"
    }
   ],
   "source": [
    "for i in range(nstate): #Right now, it replots the same data for both states. Change first '0' to 'i'.\n",
    "    plt.errorbar(x,AD[0,:,0]/AD[0,:,0] + float(i),yerr=AD[0,:,1]/AD[0,:,0],fmt='bo')\n",
    "    plt.errorbar(x+0.15,VCD[0,:,0]/AD[0,:,0]+ float(i),yerr=VCD[0,:,1]/VCD[0,:,0],fmt='go')\n",
    "    #plt.errorbar(x+0.3,VSD[0,:,0]/AD[0,:,0]+float(i),yerr=VSD[0,:,1]/VSD[0,:,0],fmt='ro') #This plots the case plus\n",
    "                                                                                           #serology data, and messes\n",
    "                                                                                           #up the plot. We need to \n",
    "                                                                                           #find a different way to \n",
    "                                                                                            #show that.\n",
    "    #plt.ylim(-2,2)\n",
    "    \n",
    "plt.xlim(0.9,7.4)\n",
    "plt.ylim(0,3)\n",
    "plt.xticks(x,params, fontsize=15)\n",
    "plt.yticks(y,states, fontsize=15)"
   ]
  },
  {
   "cell_type": "code",
   "execution_count": null,
   "metadata": {
    "collapsed": true
   },
   "outputs": [],
   "source": []
  }
 ],
 "metadata": {
  "kernelspec": {
   "display_name": "Python 2",
   "language": "python",
   "name": "python2"
  },
  "language_info": {
   "codemirror_mode": {
    "name": "ipython",
    "version": 2
   },
   "file_extension": ".py",
   "mimetype": "text/x-python",
   "name": "python",
   "nbconvert_exporter": "python",
   "pygments_lexer": "ipython2",
   "version": "2.7.12"
  }
 },
 "nbformat": 4,
 "nbformat_minor": 0
}
